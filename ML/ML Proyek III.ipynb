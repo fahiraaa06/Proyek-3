{
 "cells": [
  {
   "cell_type": "markdown",
   "id": "5238abb7",
   "metadata": {},
   "source": [
    "### Pregnancy Diagnosis Prediction Using Decision Trees and Random Forests With C4.5 Algorithm"
   ]
  },
  {
   "cell_type": "markdown",
   "id": "4717b84a",
   "metadata": {},
   "source": [
    "### Dataset Information\n",
    "Age: Usia dalam tahun ketika seorang wanita hamil.<br>\n",
    "SystolicBP: Nilai atas Tekanan Darah dalam mmHg, atribut penting lainnya selama kehamilan. <br>\n",
    "DiastolicBP: Nilai Tekanan Darah yang lebih rendah dalam mmHg, atribut penting lainnya selama kehamilan. <br>\n",
    "BS: Kadar glukosa darah dinyatakan dalam konsentrasi molar, mmol/L. <br>\n",
    "HeartRate: Detak jantung istirahat normal dalam denyut per menit. <br>\n",
    "RiskLevel: Prediksi Tingkat Intensitas Risiko selama kehamilan dengan mempertimbangkan atribut sebelumnya."
   ]
  },
  {
   "cell_type": "markdown",
   "id": "0c2c56ca",
   "metadata": {},
   "source": [
    "### Import Data dan Prepocessing"
   ]
  },
  {
   "cell_type": "code",
   "execution_count": 2,
   "id": "330711e2",
   "metadata": {},
   "outputs": [],
   "source": [
    "import pandas as pd\n",
    "import seaborn as sns\n",
    "import numpy as np\n",
    "from sklearn.model_selection import train_test_split\n",
    "from sklearn.preprocessing import StandardScaler\n",
    "from sklearn.metrics import confusion_matrix, accuracy_score\n",
    "from sklearn.metrics import classification_report"
   ]
  },
  {
   "cell_type": "code",
   "execution_count": 3,
   "id": "82acbfcd",
   "metadata": {},
   "outputs": [
    {
     "data": {
      "text/html": [
       "<div>\n",
       "<style scoped>\n",
       "    .dataframe tbody tr th:only-of-type {\n",
       "        vertical-align: middle;\n",
       "    }\n",
       "\n",
       "    .dataframe tbody tr th {\n",
       "        vertical-align: top;\n",
       "    }\n",
       "\n",
       "    .dataframe thead th {\n",
       "        text-align: right;\n",
       "    }\n",
       "</style>\n",
       "<table border=\"1\" class=\"dataframe\">\n",
       "  <thead>\n",
       "    <tr style=\"text-align: right;\">\n",
       "      <th></th>\n",
       "      <th>Age</th>\n",
       "      <th>SystolicBP</th>\n",
       "      <th>DiastolicBP</th>\n",
       "      <th>BS</th>\n",
       "      <th>BodyTemp</th>\n",
       "      <th>HeartRate</th>\n",
       "      <th>RiskLevel</th>\n",
       "    </tr>\n",
       "  </thead>\n",
       "  <tbody>\n",
       "    <tr>\n",
       "      <th>0</th>\n",
       "      <td>25</td>\n",
       "      <td>130</td>\n",
       "      <td>80</td>\n",
       "      <td>15.0</td>\n",
       "      <td>98.0</td>\n",
       "      <td>86</td>\n",
       "      <td>high risk</td>\n",
       "    </tr>\n",
       "    <tr>\n",
       "      <th>1</th>\n",
       "      <td>35</td>\n",
       "      <td>140</td>\n",
       "      <td>90</td>\n",
       "      <td>13.0</td>\n",
       "      <td>98.0</td>\n",
       "      <td>70</td>\n",
       "      <td>high risk</td>\n",
       "    </tr>\n",
       "    <tr>\n",
       "      <th>2</th>\n",
       "      <td>29</td>\n",
       "      <td>90</td>\n",
       "      <td>70</td>\n",
       "      <td>8.0</td>\n",
       "      <td>100.0</td>\n",
       "      <td>80</td>\n",
       "      <td>high risk</td>\n",
       "    </tr>\n",
       "    <tr>\n",
       "      <th>3</th>\n",
       "      <td>30</td>\n",
       "      <td>140</td>\n",
       "      <td>85</td>\n",
       "      <td>7.0</td>\n",
       "      <td>98.0</td>\n",
       "      <td>70</td>\n",
       "      <td>high risk</td>\n",
       "    </tr>\n",
       "    <tr>\n",
       "      <th>4</th>\n",
       "      <td>35</td>\n",
       "      <td>120</td>\n",
       "      <td>60</td>\n",
       "      <td>6.1</td>\n",
       "      <td>98.0</td>\n",
       "      <td>76</td>\n",
       "      <td>low risk</td>\n",
       "    </tr>\n",
       "  </tbody>\n",
       "</table>\n",
       "</div>"
      ],
      "text/plain": [
       "   Age  SystolicBP  DiastolicBP    BS  BodyTemp  HeartRate  RiskLevel\n",
       "0   25         130           80  15.0      98.0         86  high risk\n",
       "1   35         140           90  13.0      98.0         70  high risk\n",
       "2   29          90           70   8.0     100.0         80  high risk\n",
       "3   30         140           85   7.0      98.0         70  high risk\n",
       "4   35         120           60   6.1      98.0         76   low risk"
      ]
     },
     "execution_count": 3,
     "metadata": {},
     "output_type": "execute_result"
    }
   ],
   "source": [
    "df = pd.read_csv('Maternal Health Risk Data Set.csv')\n",
    "df.head()"
   ]
  },
  {
   "cell_type": "code",
   "execution_count": 4,
   "id": "1a564f77",
   "metadata": {},
   "outputs": [
    {
     "data": {
      "text/html": [
       "<div>\n",
       "<style scoped>\n",
       "    .dataframe tbody tr th:only-of-type {\n",
       "        vertical-align: middle;\n",
       "    }\n",
       "\n",
       "    .dataframe tbody tr th {\n",
       "        vertical-align: top;\n",
       "    }\n",
       "\n",
       "    .dataframe thead th {\n",
       "        text-align: right;\n",
       "    }\n",
       "</style>\n",
       "<table border=\"1\" class=\"dataframe\">\n",
       "  <thead>\n",
       "    <tr style=\"text-align: right;\">\n",
       "      <th></th>\n",
       "      <th>Age</th>\n",
       "      <th>SystolicBP</th>\n",
       "      <th>DiastolicBP</th>\n",
       "      <th>BS</th>\n",
       "      <th>BodyTemp</th>\n",
       "      <th>HeartRate</th>\n",
       "      <th>RiskLevel</th>\n",
       "    </tr>\n",
       "  </thead>\n",
       "  <tbody>\n",
       "    <tr>\n",
       "      <th>15</th>\n",
       "      <td>15</td>\n",
       "      <td>120</td>\n",
       "      <td>80</td>\n",
       "      <td>7.01</td>\n",
       "      <td>98.0</td>\n",
       "      <td>70</td>\n",
       "      <td>low risk</td>\n",
       "    </tr>\n",
       "    <tr>\n",
       "      <th>19</th>\n",
       "      <td>10</td>\n",
       "      <td>70</td>\n",
       "      <td>50</td>\n",
       "      <td>6.90</td>\n",
       "      <td>98.0</td>\n",
       "      <td>70</td>\n",
       "      <td>low risk</td>\n",
       "    </tr>\n",
       "    <tr>\n",
       "      <th>25</th>\n",
       "      <td>16</td>\n",
       "      <td>100</td>\n",
       "      <td>70</td>\n",
       "      <td>7.20</td>\n",
       "      <td>98.0</td>\n",
       "      <td>80</td>\n",
       "      <td>low risk</td>\n",
       "    </tr>\n",
       "    <tr>\n",
       "      <th>35</th>\n",
       "      <td>12</td>\n",
       "      <td>95</td>\n",
       "      <td>60</td>\n",
       "      <td>6.10</td>\n",
       "      <td>102.0</td>\n",
       "      <td>60</td>\n",
       "      <td>low risk</td>\n",
       "    </tr>\n",
       "    <tr>\n",
       "      <th>48</th>\n",
       "      <td>15</td>\n",
       "      <td>76</td>\n",
       "      <td>49</td>\n",
       "      <td>7.50</td>\n",
       "      <td>98.0</td>\n",
       "      <td>77</td>\n",
       "      <td>low risk</td>\n",
       "    </tr>\n",
       "    <tr>\n",
       "      <th>...</th>\n",
       "      <td>...</td>\n",
       "      <td>...</td>\n",
       "      <td>...</td>\n",
       "      <td>...</td>\n",
       "      <td>...</td>\n",
       "      <td>...</td>\n",
       "      <td>...</td>\n",
       "    </tr>\n",
       "    <tr>\n",
       "      <th>957</th>\n",
       "      <td>14</td>\n",
       "      <td>90</td>\n",
       "      <td>65</td>\n",
       "      <td>7.00</td>\n",
       "      <td>101.0</td>\n",
       "      <td>70</td>\n",
       "      <td>high risk</td>\n",
       "    </tr>\n",
       "    <tr>\n",
       "      <th>963</th>\n",
       "      <td>12</td>\n",
       "      <td>90</td>\n",
       "      <td>60</td>\n",
       "      <td>7.90</td>\n",
       "      <td>102.0</td>\n",
       "      <td>66</td>\n",
       "      <td>high risk</td>\n",
       "    </tr>\n",
       "    <tr>\n",
       "      <th>996</th>\n",
       "      <td>12</td>\n",
       "      <td>90</td>\n",
       "      <td>60</td>\n",
       "      <td>8.00</td>\n",
       "      <td>102.0</td>\n",
       "      <td>66</td>\n",
       "      <td>high risk</td>\n",
       "    </tr>\n",
       "    <tr>\n",
       "      <th>1000</th>\n",
       "      <td>12</td>\n",
       "      <td>90</td>\n",
       "      <td>60</td>\n",
       "      <td>11.00</td>\n",
       "      <td>102.0</td>\n",
       "      <td>60</td>\n",
       "      <td>high risk</td>\n",
       "    </tr>\n",
       "    <tr>\n",
       "      <th>1004</th>\n",
       "      <td>13</td>\n",
       "      <td>90</td>\n",
       "      <td>65</td>\n",
       "      <td>9.00</td>\n",
       "      <td>101.0</td>\n",
       "      <td>80</td>\n",
       "      <td>high risk</td>\n",
       "    </tr>\n",
       "  </tbody>\n",
       "</table>\n",
       "<p>130 rows × 7 columns</p>\n",
       "</div>"
      ],
      "text/plain": [
       "      Age  SystolicBP  DiastolicBP     BS  BodyTemp  HeartRate  RiskLevel\n",
       "15     15         120           80   7.01      98.0         70   low risk\n",
       "19     10          70           50   6.90      98.0         70   low risk\n",
       "25     16         100           70   7.20      98.0         80   low risk\n",
       "35     12          95           60   6.10     102.0         60   low risk\n",
       "48     15          76           49   7.50      98.0         77   low risk\n",
       "...   ...         ...          ...    ...       ...        ...        ...\n",
       "957    14          90           65   7.00     101.0         70  high risk\n",
       "963    12          90           60   7.90     102.0         66  high risk\n",
       "996    12          90           60   8.00     102.0         66  high risk\n",
       "1000   12          90           60  11.00     102.0         60  high risk\n",
       "1004   13          90           65   9.00     101.0         80  high risk\n",
       "\n",
       "[130 rows x 7 columns]"
      ]
     },
     "execution_count": 4,
     "metadata": {},
     "output_type": "execute_result"
    }
   ],
   "source": [
    "df[df['Age'] <= 16]"
   ]
  },
  {
   "cell_type": "code",
   "execution_count": 5,
   "id": "67a9257c",
   "metadata": {},
   "outputs": [],
   "source": [
    "df['Age'] = df['Age'].mask(df['Age']<16, 16)"
   ]
  },
  {
   "cell_type": "code",
   "execution_count": 6,
   "id": "184dcedd",
   "metadata": {},
   "outputs": [
    {
     "data": {
      "text/html": [
       "<div>\n",
       "<style scoped>\n",
       "    .dataframe tbody tr th:only-of-type {\n",
       "        vertical-align: middle;\n",
       "    }\n",
       "\n",
       "    .dataframe tbody tr th {\n",
       "        vertical-align: top;\n",
       "    }\n",
       "\n",
       "    .dataframe thead th {\n",
       "        text-align: right;\n",
       "    }\n",
       "</style>\n",
       "<table border=\"1\" class=\"dataframe\">\n",
       "  <thead>\n",
       "    <tr style=\"text-align: right;\">\n",
       "      <th></th>\n",
       "      <th>Age</th>\n",
       "      <th>SystolicBP</th>\n",
       "      <th>DiastolicBP</th>\n",
       "      <th>BS</th>\n",
       "      <th>BodyTemp</th>\n",
       "      <th>HeartRate</th>\n",
       "      <th>RiskLevel</th>\n",
       "    </tr>\n",
       "  </thead>\n",
       "  <tbody>\n",
       "  </tbody>\n",
       "</table>\n",
       "</div>"
      ],
      "text/plain": [
       "Empty DataFrame\n",
       "Columns: [Age, SystolicBP, DiastolicBP, BS, BodyTemp, HeartRate, RiskLevel]\n",
       "Index: []"
      ]
     },
     "execution_count": 6,
     "metadata": {},
     "output_type": "execute_result"
    }
   ],
   "source": [
    "df[df['Age'] < 16]"
   ]
  },
  {
   "cell_type": "code",
   "execution_count": 7,
   "id": "250c2178",
   "metadata": {},
   "outputs": [
    {
     "data": {
      "text/plain": [
       "Age              int64\n",
       "SystolicBP       int64\n",
       "DiastolicBP      int64\n",
       "BS             float64\n",
       "BodyTemp       float64\n",
       "HeartRate        int64\n",
       "RiskLevel       object\n",
       "dtype: object"
      ]
     },
     "execution_count": 7,
     "metadata": {},
     "output_type": "execute_result"
    }
   ],
   "source": [
    "df.dtypes"
   ]
  },
  {
   "cell_type": "code",
   "execution_count": 8,
   "id": "7e7cdf11",
   "metadata": {},
   "outputs": [
    {
     "name": "stdout",
     "output_type": "stream",
     "text": [
      "<class 'pandas.core.frame.DataFrame'>\n",
      "RangeIndex: 1014 entries, 0 to 1013\n",
      "Data columns (total 7 columns):\n",
      " #   Column       Non-Null Count  Dtype  \n",
      "---  ------       --------------  -----  \n",
      " 0   Age          1014 non-null   int64  \n",
      " 1   SystolicBP   1014 non-null   int64  \n",
      " 2   DiastolicBP  1014 non-null   int64  \n",
      " 3   BS           1014 non-null   float64\n",
      " 4   BodyTemp     1014 non-null   float64\n",
      " 5   HeartRate    1014 non-null   int64  \n",
      " 6   RiskLevel    1014 non-null   object \n",
      "dtypes: float64(2), int64(4), object(1)\n",
      "memory usage: 55.6+ KB\n"
     ]
    }
   ],
   "source": [
    "df.info()"
   ]
  },
  {
   "cell_type": "code",
   "execution_count": 9,
   "id": "44aa05cd",
   "metadata": {},
   "outputs": [
    {
     "data": {
      "text/plain": [
       "(1014, 7)"
      ]
     },
     "execution_count": 9,
     "metadata": {},
     "output_type": "execute_result"
    }
   ],
   "source": [
    "df.shape"
   ]
  },
  {
   "cell_type": "code",
   "execution_count": 10,
   "id": "218a456a",
   "metadata": {},
   "outputs": [
    {
     "data": {
      "text/plain": [
       "Age            0\n",
       "SystolicBP     0\n",
       "DiastolicBP    0\n",
       "BS             0\n",
       "BodyTemp       0\n",
       "HeartRate      0\n",
       "RiskLevel      0\n",
       "dtype: int64"
      ]
     },
     "execution_count": 10,
     "metadata": {},
     "output_type": "execute_result"
    }
   ],
   "source": [
    "#Miss Valuse\n",
    "df.isnull().sum()"
   ]
  },
  {
   "cell_type": "code",
   "execution_count": 11,
   "id": "8f1ec74e",
   "metadata": {},
   "outputs": [
    {
     "data": {
      "text/plain": [
       "True"
      ]
     },
     "execution_count": 11,
     "metadata": {},
     "output_type": "execute_result"
    }
   ],
   "source": [
    "#Duplicated value \n",
    "data_dup = df.duplicated().any()\n",
    "data_dup"
   ]
  },
  {
   "cell_type": "code",
   "execution_count": 12,
   "id": "12e65cfc",
   "metadata": {},
   "outputs": [
    {
     "data": {
      "text/plain": [
       "562"
      ]
     },
     "execution_count": 12,
     "metadata": {},
     "output_type": "execute_result"
    }
   ],
   "source": [
    "df.duplicated().sum()"
   ]
  },
  {
   "cell_type": "code",
   "execution_count": 13,
   "id": "c00e3931",
   "metadata": {},
   "outputs": [],
   "source": [
    "df = df.drop_duplicates()"
   ]
  },
  {
   "cell_type": "code",
   "execution_count": 14,
   "id": "902ed3c9",
   "metadata": {},
   "outputs": [
    {
     "data": {
      "text/plain": [
       "False"
      ]
     },
     "execution_count": 14,
     "metadata": {},
     "output_type": "execute_result"
    }
   ],
   "source": [
    "data_dup = df.duplicated().any()\n",
    "data_dup"
   ]
  },
  {
   "cell_type": "code",
   "execution_count": 15,
   "id": "9e4e0c7b",
   "metadata": {},
   "outputs": [
    {
     "data": {
      "text/plain": [
       "(452, 7)"
      ]
     },
     "execution_count": 15,
     "metadata": {},
     "output_type": "execute_result"
    }
   ],
   "source": [
    "df.shape"
   ]
  },
  {
   "cell_type": "code",
   "execution_count": 16,
   "id": "00f04882",
   "metadata": {},
   "outputs": [],
   "source": [
    "ca_val=[]\n",
    "co_val=[]\n",
    "\n",
    "for column in df.columns:\n",
    "    if df[column].nunique() <=10:\n",
    "        ca_val.append(column)\n",
    "    else:\n",
    "        co_val.append(column)"
   ]
  },
  {
   "cell_type": "code",
   "execution_count": 17,
   "id": "b8c74116",
   "metadata": {},
   "outputs": [
    {
     "data": {
      "text/plain": [
       "['BodyTemp', 'RiskLevel']"
      ]
     },
     "execution_count": 17,
     "metadata": {},
     "output_type": "execute_result"
    }
   ],
   "source": [
    "#Categorical Data\n",
    "ca_val"
   ]
  },
  {
   "cell_type": "code",
   "execution_count": 18,
   "id": "4e382831",
   "metadata": {},
   "outputs": [
    {
     "data": {
      "text/plain": [
       "array([ 98. , 100. , 102. , 101. , 103. ,  98.4,  99. ,  98.6])"
      ]
     },
     "execution_count": 18,
     "metadata": {},
     "output_type": "execute_result"
    }
   ],
   "source": [
    "df['BodyTemp'].unique()"
   ]
  },
  {
   "cell_type": "code",
   "execution_count": 19,
   "id": "1c077626",
   "metadata": {},
   "outputs": [
    {
     "data": {
      "text/plain": [
       "array(['high risk', 'low risk', 'mid risk'], dtype=object)"
      ]
     },
     "execution_count": 19,
     "metadata": {},
     "output_type": "execute_result"
    }
   ],
   "source": [
    "df['RiskLevel'].unique()"
   ]
  },
  {
   "cell_type": "code",
   "execution_count": 20,
   "id": "ff4bd562",
   "metadata": {},
   "outputs": [
    {
     "data": {
      "text/plain": [
       "['Age', 'SystolicBP', 'DiastolicBP', 'BS', 'HeartRate']"
      ]
     },
     "execution_count": 20,
     "metadata": {},
     "output_type": "execute_result"
    }
   ],
   "source": [
    "co_val"
   ]
  },
  {
   "cell_type": "code",
   "execution_count": 21,
   "id": "ba53a93c",
   "metadata": {},
   "outputs": [
    {
     "data": {
      "text/plain": [
       "array([25, 35, 29, 30, 23, 32, 42, 19, 20, 48, 16, 50, 40, 21, 18, 22, 49,\n",
       "       28, 60, 55, 45, 31, 17, 26, 54, 44, 33, 34, 38, 39, 63, 37, 51, 62,\n",
       "       43, 65, 66, 56, 70, 27, 36, 59, 24, 41, 46], dtype=int64)"
      ]
     },
     "execution_count": 21,
     "metadata": {},
     "output_type": "execute_result"
    }
   ],
   "source": [
    "df['Age'].unique()"
   ]
  },
  {
   "cell_type": "code",
   "execution_count": 22,
   "id": "c47d37ed",
   "metadata": {},
   "outputs": [
    {
     "data": {
      "text/plain": [
       "array([130, 140,  90, 120,  85, 110,  70, 100,  75,  95,  76,  80, 115,\n",
       "       135, 160, 129,  83,  99,  78], dtype=int64)"
      ]
     },
     "execution_count": 22,
     "metadata": {},
     "output_type": "execute_result"
    }
   ],
   "source": [
    "df['SystolicBP'].unique()"
   ]
  },
  {
   "cell_type": "code",
   "execution_count": 23,
   "id": "ee79eb7b",
   "metadata": {},
   "outputs": [
    {
     "data": {
      "text/plain": [
       "array([ 80,  90,  70,  85,  60,  89,  75, 100,  50,  65,  95,  49,  63,\n",
       "        69,  76,  68], dtype=int64)"
      ]
     },
     "execution_count": 23,
     "metadata": {},
     "output_type": "execute_result"
    }
   ],
   "source": [
    "df['DiastolicBP'].unique()"
   ]
  },
  {
   "cell_type": "code",
   "execution_count": 24,
   "id": "7ed9f467",
   "metadata": {},
   "outputs": [
    {
     "data": {
      "text/plain": [
       "array([15.  , 13.  ,  8.  ,  7.  ,  6.1 ,  7.01, 11.  ,  6.9 , 18.  ,\n",
       "        6.7 ,  7.5 ,  7.2 ,  7.1 ,  6.4 ,  9.  ,  6.  ,  7.7 , 12.  ,\n",
       "       16.  ,  7.8 ,  6.8 ,  7.9 , 17.  , 19.  , 10.  ,  6.3 ,  6.6 ,\n",
       "        6.5 ,  7.6 ])"
      ]
     },
     "execution_count": 24,
     "metadata": {},
     "output_type": "execute_result"
    }
   ],
   "source": [
    "df['BS'].unique()"
   ]
  },
  {
   "cell_type": "code",
   "execution_count": 27,
   "id": "c5cd8c6e",
   "metadata": {},
   "outputs": [
    {
     "data": {
      "text/plain": [
       "array([86, 70, 80, 76, 78, 77, 88, 90, 66, 82, 60, 75, 67, 65, 68,  7],\n",
       "      dtype=int64)"
      ]
     },
     "execution_count": 27,
     "metadata": {},
     "output_type": "execute_result"
    }
   ],
   "source": [
    "df['HeartRate'].unique()"
   ]
  },
  {
   "cell_type": "code",
   "execution_count": 28,
   "id": "78d79bd7",
   "metadata": {},
   "outputs": [
    {
     "data": {
      "text/html": [
       "<div>\n",
       "<style scoped>\n",
       "    .dataframe tbody tr th:only-of-type {\n",
       "        vertical-align: middle;\n",
       "    }\n",
       "\n",
       "    .dataframe tbody tr th {\n",
       "        vertical-align: top;\n",
       "    }\n",
       "\n",
       "    .dataframe thead th {\n",
       "        text-align: right;\n",
       "    }\n",
       "</style>\n",
       "<table border=\"1\" class=\"dataframe\">\n",
       "  <thead>\n",
       "    <tr style=\"text-align: right;\">\n",
       "      <th></th>\n",
       "      <th>Age</th>\n",
       "      <th>SystolicBP</th>\n",
       "      <th>DiastolicBP</th>\n",
       "      <th>BS</th>\n",
       "      <th>BodyTemp</th>\n",
       "      <th>HeartRate</th>\n",
       "      <th>RiskLevel</th>\n",
       "    </tr>\n",
       "  </thead>\n",
       "  <tbody>\n",
       "    <tr>\n",
       "      <th>0</th>\n",
       "      <td>25</td>\n",
       "      <td>130</td>\n",
       "      <td>80</td>\n",
       "      <td>15.0</td>\n",
       "      <td>98.0</td>\n",
       "      <td>86</td>\n",
       "      <td>3.0</td>\n",
       "    </tr>\n",
       "    <tr>\n",
       "      <th>1</th>\n",
       "      <td>35</td>\n",
       "      <td>140</td>\n",
       "      <td>90</td>\n",
       "      <td>13.0</td>\n",
       "      <td>98.0</td>\n",
       "      <td>70</td>\n",
       "      <td>3.0</td>\n",
       "    </tr>\n",
       "    <tr>\n",
       "      <th>2</th>\n",
       "      <td>29</td>\n",
       "      <td>90</td>\n",
       "      <td>70</td>\n",
       "      <td>8.0</td>\n",
       "      <td>100.0</td>\n",
       "      <td>80</td>\n",
       "      <td>3.0</td>\n",
       "    </tr>\n",
       "    <tr>\n",
       "      <th>3</th>\n",
       "      <td>30</td>\n",
       "      <td>140</td>\n",
       "      <td>85</td>\n",
       "      <td>7.0</td>\n",
       "      <td>98.0</td>\n",
       "      <td>70</td>\n",
       "      <td>3.0</td>\n",
       "    </tr>\n",
       "    <tr>\n",
       "      <th>4</th>\n",
       "      <td>35</td>\n",
       "      <td>120</td>\n",
       "      <td>60</td>\n",
       "      <td>6.1</td>\n",
       "      <td>98.0</td>\n",
       "      <td>76</td>\n",
       "      <td>1.0</td>\n",
       "    </tr>\n",
       "    <tr>\n",
       "      <th>...</th>\n",
       "      <td>...</td>\n",
       "      <td>...</td>\n",
       "      <td>...</td>\n",
       "      <td>...</td>\n",
       "      <td>...</td>\n",
       "      <td>...</td>\n",
       "      <td>...</td>\n",
       "    </tr>\n",
       "    <tr>\n",
       "      <th>673</th>\n",
       "      <td>16</td>\n",
       "      <td>100</td>\n",
       "      <td>50</td>\n",
       "      <td>6.4</td>\n",
       "      <td>98.0</td>\n",
       "      <td>70</td>\n",
       "      <td>2.0</td>\n",
       "    </tr>\n",
       "    <tr>\n",
       "      <th>674</th>\n",
       "      <td>16</td>\n",
       "      <td>100</td>\n",
       "      <td>60</td>\n",
       "      <td>6.0</td>\n",
       "      <td>98.0</td>\n",
       "      <td>80</td>\n",
       "      <td>1.0</td>\n",
       "    </tr>\n",
       "    <tr>\n",
       "      <th>703</th>\n",
       "      <td>16</td>\n",
       "      <td>100</td>\n",
       "      <td>49</td>\n",
       "      <td>7.6</td>\n",
       "      <td>98.0</td>\n",
       "      <td>77</td>\n",
       "      <td>1.0</td>\n",
       "    </tr>\n",
       "    <tr>\n",
       "      <th>704</th>\n",
       "      <td>16</td>\n",
       "      <td>100</td>\n",
       "      <td>50</td>\n",
       "      <td>6.0</td>\n",
       "      <td>98.0</td>\n",
       "      <td>70</td>\n",
       "      <td>2.0</td>\n",
       "    </tr>\n",
       "    <tr>\n",
       "      <th>705</th>\n",
       "      <td>21</td>\n",
       "      <td>100</td>\n",
       "      <td>50</td>\n",
       "      <td>6.8</td>\n",
       "      <td>98.0</td>\n",
       "      <td>60</td>\n",
       "      <td>1.0</td>\n",
       "    </tr>\n",
       "  </tbody>\n",
       "</table>\n",
       "<p>452 rows × 7 columns</p>\n",
       "</div>"
      ],
      "text/plain": [
       "     Age  SystolicBP  DiastolicBP    BS  BodyTemp  HeartRate  RiskLevel\n",
       "0     25         130           80  15.0      98.0         86        3.0\n",
       "1     35         140           90  13.0      98.0         70        3.0\n",
       "2     29          90           70   8.0     100.0         80        3.0\n",
       "3     30         140           85   7.0      98.0         70        3.0\n",
       "4     35         120           60   6.1      98.0         76        1.0\n",
       "..   ...         ...          ...   ...       ...        ...        ...\n",
       "673   16         100           50   6.4      98.0         70        2.0\n",
       "674   16         100           60   6.0      98.0         80        1.0\n",
       "703   16         100           49   7.6      98.0         77        1.0\n",
       "704   16         100           50   6.0      98.0         70        2.0\n",
       "705   21         100           50   6.8      98.0         60        1.0\n",
       "\n",
       "[452 rows x 7 columns]"
      ]
     },
     "execution_count": 28,
     "metadata": {},
     "output_type": "execute_result"
    }
   ],
   "source": [
    "RiskLevel = {'low risk':1, \n",
    "        'mid risk':2, \n",
    "        'high risk':3}\n",
    "\n",
    "#membuat encodding \n",
    "df['RiskLevel'] = df['RiskLevel'].map(RiskLevel).astype(float)\n",
    "df"
   ]
  },
  {
   "cell_type": "code",
   "execution_count": 29,
   "id": "73bd3f70",
   "metadata": {},
   "outputs": [
    {
     "data": {
      "text/plain": [
       "1.0    234\n",
       "3.0    112\n",
       "2.0    106\n",
       "Name: RiskLevel, dtype: int64"
      ]
     },
     "execution_count": 29,
     "metadata": {},
     "output_type": "execute_result"
    }
   ],
   "source": [
    "df['RiskLevel'].value_counts()"
   ]
  },
  {
   "cell_type": "code",
   "execution_count": 30,
   "id": "c4cc8619",
   "metadata": {},
   "outputs": [
    {
     "data": {
      "text/html": [
       "<div>\n",
       "<style scoped>\n",
       "    .dataframe tbody tr th:only-of-type {\n",
       "        vertical-align: middle;\n",
       "    }\n",
       "\n",
       "    .dataframe tbody tr th {\n",
       "        vertical-align: top;\n",
       "    }\n",
       "\n",
       "    .dataframe thead th {\n",
       "        text-align: right;\n",
       "    }\n",
       "</style>\n",
       "<table border=\"1\" class=\"dataframe\">\n",
       "  <thead>\n",
       "    <tr style=\"text-align: right;\">\n",
       "      <th></th>\n",
       "      <th>count</th>\n",
       "      <th>mean</th>\n",
       "      <th>std</th>\n",
       "      <th>min</th>\n",
       "      <th>25%</th>\n",
       "      <th>50%</th>\n",
       "      <th>75%</th>\n",
       "      <th>max</th>\n",
       "    </tr>\n",
       "  </thead>\n",
       "  <tbody>\n",
       "    <tr>\n",
       "      <th>Age</th>\n",
       "      <td>452.0</td>\n",
       "      <td>29.526549</td>\n",
       "      <td>13.397445</td>\n",
       "      <td>16.0</td>\n",
       "      <td>19.0</td>\n",
       "      <td>25.0</td>\n",
       "      <td>35.0</td>\n",
       "      <td>70.0</td>\n",
       "    </tr>\n",
       "    <tr>\n",
       "      <th>SystolicBP</th>\n",
       "      <td>452.0</td>\n",
       "      <td>110.553097</td>\n",
       "      <td>17.872282</td>\n",
       "      <td>70.0</td>\n",
       "      <td>90.0</td>\n",
       "      <td>120.0</td>\n",
       "      <td>120.0</td>\n",
       "      <td>160.0</td>\n",
       "    </tr>\n",
       "    <tr>\n",
       "      <th>DiastolicBP</th>\n",
       "      <td>452.0</td>\n",
       "      <td>75.418142</td>\n",
       "      <td>13.754578</td>\n",
       "      <td>49.0</td>\n",
       "      <td>65.0</td>\n",
       "      <td>80.0</td>\n",
       "      <td>86.0</td>\n",
       "      <td>100.0</td>\n",
       "    </tr>\n",
       "    <tr>\n",
       "      <th>BS</th>\n",
       "      <td>452.0</td>\n",
       "      <td>8.346173</td>\n",
       "      <td>2.829209</td>\n",
       "      <td>6.0</td>\n",
       "      <td>6.9</td>\n",
       "      <td>7.5</td>\n",
       "      <td>7.9</td>\n",
       "      <td>19.0</td>\n",
       "    </tr>\n",
       "    <tr>\n",
       "      <th>BodyTemp</th>\n",
       "      <td>452.0</td>\n",
       "      <td>98.692478</td>\n",
       "      <td>1.410897</td>\n",
       "      <td>98.0</td>\n",
       "      <td>98.0</td>\n",
       "      <td>98.0</td>\n",
       "      <td>98.0</td>\n",
       "      <td>103.0</td>\n",
       "    </tr>\n",
       "    <tr>\n",
       "      <th>HeartRate</th>\n",
       "      <td>452.0</td>\n",
       "      <td>73.949115</td>\n",
       "      <td>8.156973</td>\n",
       "      <td>7.0</td>\n",
       "      <td>70.0</td>\n",
       "      <td>76.0</td>\n",
       "      <td>80.0</td>\n",
       "      <td>90.0</td>\n",
       "    </tr>\n",
       "    <tr>\n",
       "      <th>RiskLevel</th>\n",
       "      <td>452.0</td>\n",
       "      <td>1.730088</td>\n",
       "      <td>0.833169</td>\n",
       "      <td>1.0</td>\n",
       "      <td>1.0</td>\n",
       "      <td>1.0</td>\n",
       "      <td>2.0</td>\n",
       "      <td>3.0</td>\n",
       "    </tr>\n",
       "  </tbody>\n",
       "</table>\n",
       "</div>"
      ],
      "text/plain": [
       "             count        mean        std   min   25%    50%    75%    max\n",
       "Age          452.0   29.526549  13.397445  16.0  19.0   25.0   35.0   70.0\n",
       "SystolicBP   452.0  110.553097  17.872282  70.0  90.0  120.0  120.0  160.0\n",
       "DiastolicBP  452.0   75.418142  13.754578  49.0  65.0   80.0   86.0  100.0\n",
       "BS           452.0    8.346173   2.829209   6.0   6.9    7.5    7.9   19.0\n",
       "BodyTemp     452.0   98.692478   1.410897  98.0  98.0   98.0   98.0  103.0\n",
       "HeartRate    452.0   73.949115   8.156973   7.0  70.0   76.0   80.0   90.0\n",
       "RiskLevel    452.0    1.730088   0.833169   1.0   1.0    1.0    2.0    3.0"
      ]
     },
     "execution_count": 30,
     "metadata": {},
     "output_type": "execute_result"
    }
   ],
   "source": [
    "df.describe().T"
   ]
  },
  {
   "cell_type": "code",
   "execution_count": 33,
   "id": "b2b70d9b",
   "metadata": {},
   "outputs": [
    {
     "data": {
      "text/html": [
       "<div>\n",
       "<style scoped>\n",
       "    .dataframe tbody tr th:only-of-type {\n",
       "        vertical-align: middle;\n",
       "    }\n",
       "\n",
       "    .dataframe tbody tr th {\n",
       "        vertical-align: top;\n",
       "    }\n",
       "\n",
       "    .dataframe thead th {\n",
       "        text-align: right;\n",
       "    }\n",
       "</style>\n",
       "<table border=\"1\" class=\"dataframe\">\n",
       "  <thead>\n",
       "    <tr style=\"text-align: right;\">\n",
       "      <th></th>\n",
       "      <th>count</th>\n",
       "      <th>mean</th>\n",
       "      <th>std</th>\n",
       "      <th>min</th>\n",
       "      <th>25%</th>\n",
       "      <th>50%</th>\n",
       "      <th>75%</th>\n",
       "      <th>max</th>\n",
       "    </tr>\n",
       "  </thead>\n",
       "  <tbody>\n",
       "    <tr>\n",
       "      <th>Age</th>\n",
       "      <td>234.0</td>\n",
       "      <td>27.696581</td>\n",
       "      <td>13.520523</td>\n",
       "      <td>16.0</td>\n",
       "      <td>18.0</td>\n",
       "      <td>22.0</td>\n",
       "      <td>33.5</td>\n",
       "      <td>70.0</td>\n",
       "    </tr>\n",
       "    <tr>\n",
       "      <th>SystolicBP</th>\n",
       "      <td>234.0</td>\n",
       "      <td>105.435897</td>\n",
       "      <td>15.505438</td>\n",
       "      <td>70.0</td>\n",
       "      <td>90.0</td>\n",
       "      <td>100.0</td>\n",
       "      <td>120.0</td>\n",
       "      <td>129.0</td>\n",
       "    </tr>\n",
       "    <tr>\n",
       "      <th>DiastolicBP</th>\n",
       "      <td>234.0</td>\n",
       "      <td>72.730769</td>\n",
       "      <td>13.081789</td>\n",
       "      <td>49.0</td>\n",
       "      <td>60.0</td>\n",
       "      <td>75.0</td>\n",
       "      <td>80.0</td>\n",
       "      <td>100.0</td>\n",
       "    </tr>\n",
       "    <tr>\n",
       "      <th>BS</th>\n",
       "      <td>234.0</td>\n",
       "      <td>7.201838</td>\n",
       "      <td>0.568363</td>\n",
       "      <td>6.0</td>\n",
       "      <td>6.9</td>\n",
       "      <td>7.2</td>\n",
       "      <td>7.5</td>\n",
       "      <td>11.0</td>\n",
       "    </tr>\n",
       "    <tr>\n",
       "      <th>BodyTemp</th>\n",
       "      <td>234.0</td>\n",
       "      <td>98.360684</td>\n",
       "      <td>1.107366</td>\n",
       "      <td>98.0</td>\n",
       "      <td>98.0</td>\n",
       "      <td>98.0</td>\n",
       "      <td>98.0</td>\n",
       "      <td>103.0</td>\n",
       "    </tr>\n",
       "    <tr>\n",
       "      <th>HeartRate</th>\n",
       "      <td>234.0</td>\n",
       "      <td>72.760684</td>\n",
       "      <td>8.230739</td>\n",
       "      <td>7.0</td>\n",
       "      <td>70.0</td>\n",
       "      <td>70.0</td>\n",
       "      <td>77.0</td>\n",
       "      <td>88.0</td>\n",
       "    </tr>\n",
       "    <tr>\n",
       "      <th>RiskLevel</th>\n",
       "      <td>234.0</td>\n",
       "      <td>1.000000</td>\n",
       "      <td>0.000000</td>\n",
       "      <td>1.0</td>\n",
       "      <td>1.0</td>\n",
       "      <td>1.0</td>\n",
       "      <td>1.0</td>\n",
       "      <td>1.0</td>\n",
       "    </tr>\n",
       "  </tbody>\n",
       "</table>\n",
       "</div>"
      ],
      "text/plain": [
       "             count        mean        std   min   25%    50%    75%    max\n",
       "Age          234.0   27.696581  13.520523  16.0  18.0   22.0   33.5   70.0\n",
       "SystolicBP   234.0  105.435897  15.505438  70.0  90.0  100.0  120.0  129.0\n",
       "DiastolicBP  234.0   72.730769  13.081789  49.0  60.0   75.0   80.0  100.0\n",
       "BS           234.0    7.201838   0.568363   6.0   6.9    7.2    7.5   11.0\n",
       "BodyTemp     234.0   98.360684   1.107366  98.0  98.0   98.0   98.0  103.0\n",
       "HeartRate    234.0   72.760684   8.230739   7.0  70.0   70.0   77.0   88.0\n",
       "RiskLevel    234.0    1.000000   0.000000   1.0   1.0    1.0    1.0    1.0"
      ]
     },
     "execution_count": 33,
     "metadata": {},
     "output_type": "execute_result"
    }
   ],
   "source": [
    "df[df['RiskLevel'] == 1].describe().T"
   ]
  },
  {
   "cell_type": "code",
   "execution_count": 34,
   "id": "687b628e",
   "metadata": {},
   "outputs": [
    {
     "data": {
      "text/html": [
       "<div>\n",
       "<style scoped>\n",
       "    .dataframe tbody tr th:only-of-type {\n",
       "        vertical-align: middle;\n",
       "    }\n",
       "\n",
       "    .dataframe tbody tr th {\n",
       "        vertical-align: top;\n",
       "    }\n",
       "\n",
       "    .dataframe thead th {\n",
       "        text-align: right;\n",
       "    }\n",
       "</style>\n",
       "<table border=\"1\" class=\"dataframe\">\n",
       "  <thead>\n",
       "    <tr style=\"text-align: right;\">\n",
       "      <th></th>\n",
       "      <th>count</th>\n",
       "      <th>mean</th>\n",
       "      <th>std</th>\n",
       "      <th>min</th>\n",
       "      <th>25%</th>\n",
       "      <th>50%</th>\n",
       "      <th>75%</th>\n",
       "      <th>max</th>\n",
       "    </tr>\n",
       "  </thead>\n",
       "  <tbody>\n",
       "    <tr>\n",
       "      <th>Age</th>\n",
       "      <td>106.0</td>\n",
       "      <td>28.896226</td>\n",
       "      <td>12.290088</td>\n",
       "      <td>16.0</td>\n",
       "      <td>19.0</td>\n",
       "      <td>25.5</td>\n",
       "      <td>32.0</td>\n",
       "      <td>60.0</td>\n",
       "    </tr>\n",
       "    <tr>\n",
       "      <th>SystolicBP</th>\n",
       "      <td>106.0</td>\n",
       "      <td>112.405660</td>\n",
       "      <td>15.059108</td>\n",
       "      <td>70.0</td>\n",
       "      <td>100.0</td>\n",
       "      <td>120.0</td>\n",
       "      <td>120.0</td>\n",
       "      <td>140.0</td>\n",
       "    </tr>\n",
       "    <tr>\n",
       "      <th>DiastolicBP</th>\n",
       "      <td>106.0</td>\n",
       "      <td>74.886792</td>\n",
       "      <td>12.166559</td>\n",
       "      <td>50.0</td>\n",
       "      <td>65.0</td>\n",
       "      <td>77.5</td>\n",
       "      <td>85.0</td>\n",
       "      <td>100.0</td>\n",
       "    </tr>\n",
       "    <tr>\n",
       "      <th>BS</th>\n",
       "      <td>106.0</td>\n",
       "      <td>7.893585</td>\n",
       "      <td>2.383055</td>\n",
       "      <td>6.0</td>\n",
       "      <td>6.8</td>\n",
       "      <td>7.0</td>\n",
       "      <td>7.8</td>\n",
       "      <td>18.0</td>\n",
       "    </tr>\n",
       "    <tr>\n",
       "      <th>BodyTemp</th>\n",
       "      <td>106.0</td>\n",
       "      <td>98.858491</td>\n",
       "      <td>1.469944</td>\n",
       "      <td>98.0</td>\n",
       "      <td>98.0</td>\n",
       "      <td>98.0</td>\n",
       "      <td>100.0</td>\n",
       "      <td>103.0</td>\n",
       "    </tr>\n",
       "    <tr>\n",
       "      <th>HeartRate</th>\n",
       "      <td>106.0</td>\n",
       "      <td>73.896226</td>\n",
       "      <td>7.000584</td>\n",
       "      <td>60.0</td>\n",
       "      <td>70.0</td>\n",
       "      <td>76.0</td>\n",
       "      <td>78.0</td>\n",
       "      <td>88.0</td>\n",
       "    </tr>\n",
       "    <tr>\n",
       "      <th>RiskLevel</th>\n",
       "      <td>106.0</td>\n",
       "      <td>2.000000</td>\n",
       "      <td>0.000000</td>\n",
       "      <td>2.0</td>\n",
       "      <td>2.0</td>\n",
       "      <td>2.0</td>\n",
       "      <td>2.0</td>\n",
       "      <td>2.0</td>\n",
       "    </tr>\n",
       "  </tbody>\n",
       "</table>\n",
       "</div>"
      ],
      "text/plain": [
       "             count        mean        std   min    25%    50%    75%    max\n",
       "Age          106.0   28.896226  12.290088  16.0   19.0   25.5   32.0   60.0\n",
       "SystolicBP   106.0  112.405660  15.059108  70.0  100.0  120.0  120.0  140.0\n",
       "DiastolicBP  106.0   74.886792  12.166559  50.0   65.0   77.5   85.0  100.0\n",
       "BS           106.0    7.893585   2.383055   6.0    6.8    7.0    7.8   18.0\n",
       "BodyTemp     106.0   98.858491   1.469944  98.0   98.0   98.0  100.0  103.0\n",
       "HeartRate    106.0   73.896226   7.000584  60.0   70.0   76.0   78.0   88.0\n",
       "RiskLevel    106.0    2.000000   0.000000   2.0    2.0    2.0    2.0    2.0"
      ]
     },
     "execution_count": 34,
     "metadata": {},
     "output_type": "execute_result"
    }
   ],
   "source": [
    "df[df['RiskLevel'] == 2].describe().T"
   ]
  },
  {
   "cell_type": "code",
   "execution_count": 35,
   "id": "db488fe3",
   "metadata": {},
   "outputs": [
    {
     "data": {
      "text/html": [
       "<div>\n",
       "<style scoped>\n",
       "    .dataframe tbody tr th:only-of-type {\n",
       "        vertical-align: middle;\n",
       "    }\n",
       "\n",
       "    .dataframe tbody tr th {\n",
       "        vertical-align: top;\n",
       "    }\n",
       "\n",
       "    .dataframe thead th {\n",
       "        text-align: right;\n",
       "    }\n",
       "</style>\n",
       "<table border=\"1\" class=\"dataframe\">\n",
       "  <thead>\n",
       "    <tr style=\"text-align: right;\">\n",
       "      <th></th>\n",
       "      <th>count</th>\n",
       "      <th>mean</th>\n",
       "      <th>std</th>\n",
       "      <th>min</th>\n",
       "      <th>25%</th>\n",
       "      <th>50%</th>\n",
       "      <th>75%</th>\n",
       "      <th>max</th>\n",
       "    </tr>\n",
       "  </thead>\n",
       "  <tbody>\n",
       "    <tr>\n",
       "      <th>Age</th>\n",
       "      <td>112.0</td>\n",
       "      <td>33.946429</td>\n",
       "      <td>13.248722</td>\n",
       "      <td>16.0</td>\n",
       "      <td>25.00</td>\n",
       "      <td>33.5</td>\n",
       "      <td>42.0</td>\n",
       "      <td>65.0</td>\n",
       "    </tr>\n",
       "    <tr>\n",
       "      <th>SystolicBP</th>\n",
       "      <td>112.0</td>\n",
       "      <td>119.491071</td>\n",
       "      <td>20.965435</td>\n",
       "      <td>83.0</td>\n",
       "      <td>98.75</td>\n",
       "      <td>120.0</td>\n",
       "      <td>140.0</td>\n",
       "      <td>160.0</td>\n",
       "    </tr>\n",
       "    <tr>\n",
       "      <th>DiastolicBP</th>\n",
       "      <td>112.0</td>\n",
       "      <td>81.535714</td>\n",
       "      <td>14.703023</td>\n",
       "      <td>60.0</td>\n",
       "      <td>68.00</td>\n",
       "      <td>80.0</td>\n",
       "      <td>95.0</td>\n",
       "      <td>100.0</td>\n",
       "    </tr>\n",
       "    <tr>\n",
       "      <th>BS</th>\n",
       "      <td>112.0</td>\n",
       "      <td>11.165357</td>\n",
       "      <td>3.936601</td>\n",
       "      <td>6.1</td>\n",
       "      <td>7.65</td>\n",
       "      <td>11.0</td>\n",
       "      <td>15.0</td>\n",
       "      <td>19.0</td>\n",
       "    </tr>\n",
       "    <tr>\n",
       "      <th>BodyTemp</th>\n",
       "      <td>112.0</td>\n",
       "      <td>99.228571</td>\n",
       "      <td>1.709298</td>\n",
       "      <td>98.0</td>\n",
       "      <td>98.00</td>\n",
       "      <td>98.0</td>\n",
       "      <td>101.0</td>\n",
       "      <td>103.0</td>\n",
       "    </tr>\n",
       "    <tr>\n",
       "      <th>HeartRate</th>\n",
       "      <td>112.0</td>\n",
       "      <td>76.482143</td>\n",
       "      <td>8.504352</td>\n",
       "      <td>60.0</td>\n",
       "      <td>70.00</td>\n",
       "      <td>77.0</td>\n",
       "      <td>80.0</td>\n",
       "      <td>90.0</td>\n",
       "    </tr>\n",
       "    <tr>\n",
       "      <th>RiskLevel</th>\n",
       "      <td>112.0</td>\n",
       "      <td>3.000000</td>\n",
       "      <td>0.000000</td>\n",
       "      <td>3.0</td>\n",
       "      <td>3.00</td>\n",
       "      <td>3.0</td>\n",
       "      <td>3.0</td>\n",
       "      <td>3.0</td>\n",
       "    </tr>\n",
       "  </tbody>\n",
       "</table>\n",
       "</div>"
      ],
      "text/plain": [
       "             count        mean        std   min    25%    50%    75%    max\n",
       "Age          112.0   33.946429  13.248722  16.0  25.00   33.5   42.0   65.0\n",
       "SystolicBP   112.0  119.491071  20.965435  83.0  98.75  120.0  140.0  160.0\n",
       "DiastolicBP  112.0   81.535714  14.703023  60.0  68.00   80.0   95.0  100.0\n",
       "BS           112.0   11.165357   3.936601   6.1   7.65   11.0   15.0   19.0\n",
       "BodyTemp     112.0   99.228571   1.709298  98.0  98.00   98.0  101.0  103.0\n",
       "HeartRate    112.0   76.482143   8.504352  60.0  70.00   77.0   80.0   90.0\n",
       "RiskLevel    112.0    3.000000   0.000000   3.0   3.00    3.0    3.0    3.0"
      ]
     },
     "execution_count": 35,
     "metadata": {},
     "output_type": "execute_result"
    }
   ],
   "source": [
    "df[df['RiskLevel'] == 3].describe().T"
   ]
  },
  {
   "cell_type": "code",
   "execution_count": 36,
   "id": "963bf7ea",
   "metadata": {},
   "outputs": [
    {
     "data": {
      "text/plain": [
       "<AxesSubplot:>"
      ]
     },
     "execution_count": 36,
     "metadata": {},
     "output_type": "execute_result"
    },
    {
     "data": {
      "image/png": "[encoded data removed]",
      "text/plain": [
       "<Figure size 432x288 with 2 Axes>"
      ]
     },
     "metadata": {
      "needs_background": "light"
     },
     "output_type": "display_data"
    }
   ],
   "source": [
    "import seaborn as sb\n",
    "corr = df.corr()\n",
    "sb.heatmap(corr, cmap=\"Blues\", annot=True)"
   ]
  },
  {
   "cell_type": "code",
   "execution_count": 37,
   "id": "3681e568",
   "metadata": {},
   "outputs": [
    {
     "data": {
      "text/plain": [
       "<AxesSubplot:xlabel='RiskLevel', ylabel='count'>"
      ]
     },
     "execution_count": 37,
     "metadata": {},
     "output_type": "execute_result"
    },
    {
     "data": {
      "image/png": "[encoded data removed]",
      "text/plain": [
       "<Figure size 432x288 with 1 Axes>"
      ]
     },
     "metadata": {
      "needs_background": "light"
     },
     "output_type": "display_data"
    }
   ],
   "source": [
    "df['RiskLevel'].value_counts()\n",
    "\n",
    "df['RiskLevel'].value_counts() * 100 / len(df)\n",
    "\n",
    "\n",
    "sns.countplot(x='RiskLevel', data=df, palette='viridis')"
   ]
  },
  {
   "cell_type": "markdown",
   "id": "ecfacbc7",
   "metadata": {},
   "source": [
    "### Modelling "
   ]
  },
  {
   "cell_type": "code",
   "execution_count": 38,
   "id": "0d4e5c5d",
   "metadata": {},
   "outputs": [],
   "source": [
    "X = df.drop('RiskLevel',axis=1)\n",
    "y = df['RiskLevel']"
   ]
  },
  {
   "cell_type": "code",
   "execution_count": 39,
   "id": "064750d9",
   "metadata": {},
   "outputs": [
    {
     "data": {
      "text/html": [
       "<div>\n",
       "<style scoped>\n",
       "    .dataframe tbody tr th:only-of-type {\n",
       "        vertical-align: middle;\n",
       "    }\n",
       "\n",
       "    .dataframe tbody tr th {\n",
       "        vertical-align: top;\n",
       "    }\n",
       "\n",
       "    .dataframe thead th {\n",
       "        text-align: right;\n",
       "    }\n",
       "</style>\n",
       "<table border=\"1\" class=\"dataframe\">\n",
       "  <thead>\n",
       "    <tr style=\"text-align: right;\">\n",
       "      <th></th>\n",
       "      <th>Age</th>\n",
       "      <th>SystolicBP</th>\n",
       "      <th>DiastolicBP</th>\n",
       "      <th>BS</th>\n",
       "      <th>BodyTemp</th>\n",
       "      <th>HeartRate</th>\n",
       "    </tr>\n",
       "  </thead>\n",
       "  <tbody>\n",
       "    <tr>\n",
       "      <th>0</th>\n",
       "      <td>25</td>\n",
       "      <td>130</td>\n",
       "      <td>80</td>\n",
       "      <td>15.0</td>\n",
       "      <td>98.0</td>\n",
       "      <td>86</td>\n",
       "    </tr>\n",
       "    <tr>\n",
       "      <th>1</th>\n",
       "      <td>35</td>\n",
       "      <td>140</td>\n",
       "      <td>90</td>\n",
       "      <td>13.0</td>\n",
       "      <td>98.0</td>\n",
       "      <td>70</td>\n",
       "    </tr>\n",
       "    <tr>\n",
       "      <th>2</th>\n",
       "      <td>29</td>\n",
       "      <td>90</td>\n",
       "      <td>70</td>\n",
       "      <td>8.0</td>\n",
       "      <td>100.0</td>\n",
       "      <td>80</td>\n",
       "    </tr>\n",
       "    <tr>\n",
       "      <th>3</th>\n",
       "      <td>30</td>\n",
       "      <td>140</td>\n",
       "      <td>85</td>\n",
       "      <td>7.0</td>\n",
       "      <td>98.0</td>\n",
       "      <td>70</td>\n",
       "    </tr>\n",
       "    <tr>\n",
       "      <th>4</th>\n",
       "      <td>35</td>\n",
       "      <td>120</td>\n",
       "      <td>60</td>\n",
       "      <td>6.1</td>\n",
       "      <td>98.0</td>\n",
       "      <td>76</td>\n",
       "    </tr>\n",
       "    <tr>\n",
       "      <th>...</th>\n",
       "      <td>...</td>\n",
       "      <td>...</td>\n",
       "      <td>...</td>\n",
       "      <td>...</td>\n",
       "      <td>...</td>\n",
       "      <td>...</td>\n",
       "    </tr>\n",
       "    <tr>\n",
       "      <th>673</th>\n",
       "      <td>16</td>\n",
       "      <td>100</td>\n",
       "      <td>50</td>\n",
       "      <td>6.4</td>\n",
       "      <td>98.0</td>\n",
       "      <td>70</td>\n",
       "    </tr>\n",
       "    <tr>\n",
       "      <th>674</th>\n",
       "      <td>16</td>\n",
       "      <td>100</td>\n",
       "      <td>60</td>\n",
       "      <td>6.0</td>\n",
       "      <td>98.0</td>\n",
       "      <td>80</td>\n",
       "    </tr>\n",
       "    <tr>\n",
       "      <th>703</th>\n",
       "      <td>16</td>\n",
       "      <td>100</td>\n",
       "      <td>49</td>\n",
       "      <td>7.6</td>\n",
       "      <td>98.0</td>\n",
       "      <td>77</td>\n",
       "    </tr>\n",
       "    <tr>\n",
       "      <th>704</th>\n",
       "      <td>16</td>\n",
       "      <td>100</td>\n",
       "      <td>50</td>\n",
       "      <td>6.0</td>\n",
       "      <td>98.0</td>\n",
       "      <td>70</td>\n",
       "    </tr>\n",
       "    <tr>\n",
       "      <th>705</th>\n",
       "      <td>21</td>\n",
       "      <td>100</td>\n",
       "      <td>50</td>\n",
       "      <td>6.8</td>\n",
       "      <td>98.0</td>\n",
       "      <td>60</td>\n",
       "    </tr>\n",
       "  </tbody>\n",
       "</table>\n",
       "<p>452 rows × 6 columns</p>\n",
       "</div>"
      ],
      "text/plain": [
       "     Age  SystolicBP  DiastolicBP    BS  BodyTemp  HeartRate\n",
       "0     25         130           80  15.0      98.0         86\n",
       "1     35         140           90  13.0      98.0         70\n",
       "2     29          90           70   8.0     100.0         80\n",
       "3     30         140           85   7.0      98.0         70\n",
       "4     35         120           60   6.1      98.0         76\n",
       "..   ...         ...          ...   ...       ...        ...\n",
       "673   16         100           50   6.4      98.0         70\n",
       "674   16         100           60   6.0      98.0         80\n",
       "703   16         100           49   7.6      98.0         77\n",
       "704   16         100           50   6.0      98.0         70\n",
       "705   21         100           50   6.8      98.0         60\n",
       "\n",
       "[452 rows x 6 columns]"
      ]
     },
     "execution_count": 39,
     "metadata": {},
     "output_type": "execute_result"
    }
   ],
   "source": [
    "X"
   ]
  },
  {
   "cell_type": "code",
   "execution_count": 40,
   "id": "81c7972a",
   "metadata": {},
   "outputs": [
    {
     "data": {
      "text/plain": [
       "0      3.0\n",
       "1      3.0\n",
       "2      3.0\n",
       "3      3.0\n",
       "4      1.0\n",
       "      ... \n",
       "673    2.0\n",
       "674    1.0\n",
       "703    1.0\n",
       "704    2.0\n",
       "705    1.0\n",
       "Name: RiskLevel, Length: 452, dtype: float64"
      ]
     },
     "execution_count": 40,
     "metadata": {},
     "output_type": "execute_result"
    }
   ],
   "source": [
    "y"
   ]
  },
  {
   "cell_type": "code",
   "execution_count": 41,
   "id": "70773737",
   "metadata": {},
   "outputs": [
    {
     "data": {
      "text/plain": [
       "425    3.0\n",
       "39     1.0\n",
       "492    2.0\n",
       "484    1.0\n",
       "192    3.0\n",
       "      ... \n",
       "29     1.0\n",
       "171    3.0\n",
       "377    1.0\n",
       "26     1.0\n",
       "7      3.0\n",
       "Name: RiskLevel, Length: 136, dtype: float64"
      ]
     },
     "execution_count": 41,
     "metadata": {},
     "output_type": "execute_result"
    }
   ],
   "source": [
    "#Splitting The Dataset\n",
    "\n",
    "X_train,X_test,y_train,y_test=train_test_split(X,y,test_size=0.3,\n",
    "                                               random_state=42)\n",
    "y_test"
   ]
  },
  {
   "cell_type": "code",
   "execution_count": 42,
   "id": "605660e0",
   "metadata": {},
   "outputs": [
    {
     "name": "stdout",
     "output_type": "stream",
     "text": [
      "Training Shape x: (316, 6)\n",
      "Testing Shape x: (136, 6)\n",
      "*****___________*****___________*****\n",
      "Training Shape y: (452, 6)\n",
      "Testing Shape y: (452,)\n"
     ]
    }
   ],
   "source": [
    "print(f'Training Shape x:',X_train.shape)\n",
    "print(f'Testing Shape x:',X_test.shape)\n",
    "print('*****___________*****___________*****')\n",
    "print(f'Training Shape y:',X.shape)\n",
    "print(f'Testing Shape y:',y.shape)"
   ]
  },
  {
   "cell_type": "code",
   "execution_count": 43,
   "id": "0c7d9e24",
   "metadata": {},
   "outputs": [],
   "source": [
    "#StandardScaler\n",
    "\n",
    "ss = StandardScaler()\n",
    "\n",
    "X_train = ss.fit_transform(X_train)\n",
    "\n",
    "X_test= ss.transform(X_test)"
   ]
  },
  {
   "cell_type": "code",
   "execution_count": 44,
   "id": "fd6df994",
   "metadata": {},
   "outputs": [
    {
     "data": {
      "text/plain": [
       "array([[-5.71368177e-01, -5.51939612e-01, -7.22213761e-01,\n",
       "         1.27926492e+00, -5.06766862e-01,  7.30074598e-01],\n",
       "       [-1.80242327e-03,  1.66072030e+00,  1.81436426e+00,\n",
       "         2.33625064e+00, -5.06766862e-01, -4.44587179e-01],\n",
       "       [-5.71368177e-01,  5.54390343e-01, -1.08458205e+00,\n",
       "         2.33625064e+00, -5.06766862e-01,  7.30074598e-01],\n",
       "       ...,\n",
       "       [-9.27346773e-01,  5.54390343e-01,  3.64891106e-01,\n",
       "        -3.06213670e-01,  2.22363942e+00,  2.60209887e-01],\n",
       "       [-1.80242327e-03,  5.54390343e-01,  3.64891106e-01,\n",
       "         2.22279192e-01,  1.54103785e+00,  2.60209887e-01],\n",
       "       [ 2.82980453e-01, -1.38168708e+00, -1.08458205e+00,\n",
       "         9.26936342e-01,  2.22363942e+00,  1.43487166e+00]])"
      ]
     },
     "execution_count": 44,
     "metadata": {},
     "output_type": "execute_result"
    }
   ],
   "source": [
    "X_train"
   ]
  },
  {
   "cell_type": "markdown",
   "id": "d78532f9",
   "metadata": {},
   "source": [
    "### Modelling"
   ]
  },
  {
   "cell_type": "markdown",
   "id": "d334a68a",
   "metadata": {},
   "source": [
    "####  Decision tree tanpa imblanace memakai gini"
   ]
  },
  {
   "cell_type": "code",
   "execution_count": 45,
   "id": "6da9c028",
   "metadata": {},
   "outputs": [
    {
     "name": "stdout",
     "output_type": "stream",
     "text": [
      "Train accuracy: 0.9430379746835443\n",
      "Test accuracy: 0.6323529411764706\n",
      "[3. 1. 2. 2. 2. 1. 3. 3. 1. 1. 3. 3. 1. 1. 1. 2. 1. 1. 1. 1. 1. 1. 1. 3.\n",
      " 3. 1. 3. 1. 2. 1. 1. 1. 1. 1. 2. 2. 1. 2. 2. 1. 2. 2. 1. 2. 2. 3. 2. 3.\n",
      " 2. 1. 1. 1. 1. 1. 1. 1. 1. 1. 1. 1. 1. 3. 2. 1. 1. 1. 1. 1. 1. 2. 3. 3.\n",
      " 1. 2. 3. 1. 1. 1. 2. 3. 2. 2. 2. 1. 1. 2. 1. 1. 1. 1. 1. 1. 3. 3. 1. 2.\n",
      " 1. 1. 3. 1. 2. 2. 2. 1. 2. 3. 2. 1. 3. 2. 3. 1. 2. 1. 1. 2. 3. 3. 1. 2.\n",
      " 3. 2. 1. 1. 2. 1. 3. 1. 3. 2. 1. 1. 2. 1. 1. 3.]\n",
      "CM: [[51 12  2]\n",
      " [19 15  5]\n",
      " [ 2 10 20]]\n",
      "Accuracy: 63.23529411764706 %\n",
      "              precision    recall  f1-score   support\n",
      "\n",
      "         1.0       0.71      0.78      0.74        65\n",
      "         2.0       0.41      0.38      0.39        39\n",
      "         3.0       0.74      0.62      0.68        32\n",
      "\n",
      "    accuracy                           0.63       136\n",
      "   macro avg       0.62      0.60      0.61       136\n",
      "weighted avg       0.63      0.63      0.63       136\n",
      "\n"
     ]
    }
   ],
   "source": [
    "#Applying Decision Tree\n",
    "from sklearn import tree\n",
    "\n",
    "#Create tree object\n",
    "decision_tree = tree.DecisionTreeClassifier(criterion='gini')\n",
    "\n",
    "#Train DT based on scaled training set\n",
    "decision_tree.fit(X_train, y_train)\n",
    "\n",
    "print(\"Train accuracy:\",decision_tree.score(X_train,y_train))\n",
    "print(\"Test accuracy:\",decision_tree.score(X_test,y_test))\n",
    "\n",
    "y_pred = decision_tree.predict(X_test)\n",
    "print(y_pred)\n",
    "cm = confusion_matrix(y_test, y_pred)\n",
    "print(f'CM:',cm)\n",
    "print(f'Accuracy:',accuracy_score(y_test, y_pred)* 100 ,'%')\n",
    "print(classification_report(y_test, decision_tree.predict(X_test)))"
   ]
  },
  {
   "cell_type": "markdown",
   "id": "fca4bc4d",
   "metadata": {},
   "source": [
    "####  Decision tree tanpa imblanace memakai Entropy"
   ]
  },
  {
   "cell_type": "code",
   "execution_count": 46,
   "id": "7b191863",
   "metadata": {},
   "outputs": [
    {
     "name": "stdout",
     "output_type": "stream",
     "text": [
      "Train accuracy: 0.9430379746835443\n",
      "Test accuracy: 0.5808823529411765\n",
      "[3. 1. 2. 2. 2. 1. 3. 3. 1. 1. 3. 3. 1. 1. 1. 1. 1. 1. 1. 1. 2. 2. 1. 3.\n",
      " 2. 1. 3. 2. 2. 1. 1. 1. 1. 1. 2. 1. 1. 2. 2. 1. 1. 2. 1. 2. 1. 3. 2. 3.\n",
      " 3. 1. 1. 1. 3. 1. 1. 1. 1. 1. 1. 2. 1. 3. 2. 1. 1. 1. 1. 2. 1. 2. 3. 3.\n",
      " 1. 2. 3. 1. 1. 1. 2. 3. 3. 2. 2. 1. 1. 1. 1. 1. 1. 1. 2. 1. 3. 3. 1. 2.\n",
      " 2. 1. 3. 1. 2. 3. 2. 1. 3. 1. 2. 1. 3. 2. 3. 1. 1. 1. 1. 1. 3. 3. 2. 2.\n",
      " 3. 2. 2. 1. 2. 1. 3. 1. 3. 2. 1. 1. 3. 1. 1. 3.]\n",
      "CM: [[44 18  3]\n",
      " [22 12  5]\n",
      " [ 4  5 23]]\n",
      "Accuracy: 58.08823529411765 %\n",
      "              precision    recall  f1-score   support\n",
      "\n",
      "         1.0       0.63      0.68      0.65        65\n",
      "         2.0       0.34      0.31      0.32        39\n",
      "         3.0       0.74      0.72      0.73        32\n",
      "\n",
      "    accuracy                           0.58       136\n",
      "   macro avg       0.57      0.57      0.57       136\n",
      "weighted avg       0.57      0.58      0.58       136\n",
      "\n"
     ]
    }
   ],
   "source": [
    "#Applying Decision Tree\n",
    "from sklearn import tree\n",
    "\n",
    "#Create tree object\n",
    "decision_tree = tree.DecisionTreeClassifier(criterion='entropy')\n",
    "\n",
    "#Train DT based on scaled training set\n",
    "decision_tree.fit(X_train, y_train)\n",
    "\n",
    "print(\"Train accuracy:\",decision_tree.score(X_train,y_train))\n",
    "print(\"Test accuracy:\",decision_tree.score(X_test,y_test))\n",
    "\n",
    "y_pred = decision_tree.predict(X_test)\n",
    "print(y_pred)\n",
    "cm = confusion_matrix(y_test, y_pred)\n",
    "print(f'CM:',cm)\n",
    "print(f'Accuracy:',accuracy_score(y_test, y_pred)* 100 ,'%')\n",
    "print(classification_report(y_test, decision_tree.predict(X_test)))"
   ]
  },
  {
   "cell_type": "markdown",
   "id": "c9780b9b",
   "metadata": {},
   "source": [
    "#### Random Forest tanpa imblanace memakai gini "
   ]
  },
  {
   "cell_type": "code",
   "execution_count": 54,
   "id": "6d74902d",
   "metadata": {},
   "outputs": [
    {
     "name": "stdout",
     "output_type": "stream",
     "text": [
      "Train accuracy: 0.9430379746835443\n",
      "Test accuracy: 0.6397058823529411\n",
      "[3. 1. 2. 2. 2. 1. 3. 3. 1. 1. 3. 3. 1. 1. 1. 1. 1. 1. 1. 1. 1. 2. 1. 3.\n",
      " 3. 1. 1. 1. 2. 1. 1. 1. 1. 2. 1. 1. 1. 2. 3. 1. 1. 2. 1. 2. 1. 3. 2. 3.\n",
      " 1. 1. 1. 1. 1. 1. 1. 1. 1. 1. 1. 1. 1. 3. 1. 2. 1. 1. 1. 1. 1. 2. 3. 3.\n",
      " 1. 2. 3. 1. 1. 1. 1. 3. 2. 2. 2. 1. 1. 1. 1. 1. 1. 1. 2. 1. 3. 3. 2. 2.\n",
      " 2. 1. 3. 1. 2. 3. 2. 1. 3. 1. 1. 1. 3. 2. 2. 1. 3. 3. 1. 1. 3. 3. 1. 2.\n",
      " 2. 2. 1. 1. 1. 1. 3. 1. 3. 1. 1. 1. 3. 1. 1. 3.]\n",
      "CM: [[54  9  2]\n",
      " [23 11  5]\n",
      " [ 3  7 22]]\n",
      "Accuracy: 63.970588235294116 %\n",
      "              precision    recall  f1-score   support\n",
      "\n",
      "         1.0       0.68      0.83      0.74        65\n",
      "         2.0       0.41      0.28      0.33        39\n",
      "         3.0       0.76      0.69      0.72        32\n",
      "\n",
      "    accuracy                           0.64       136\n",
      "   macro avg       0.61      0.60      0.60       136\n",
      "weighted avg       0.62      0.64      0.62       136\n",
      "\n"
     ]
    }
   ],
   "source": [
    "#Applying RandomForest\n",
    "from sklearn.ensemble import RandomForestClassifier\n",
    "\n",
    "#Create Random Forest object\n",
    "random_forest = RandomForestClassifier(criterion='gini')\n",
    "\n",
    "#Train model\n",
    "random_forest.fit(X_train, y_train)\n",
    "\n",
    "print(\"Train accuracy:\",random_forest.score(X_train,y_train))\n",
    "print(\"Test accuracy:\",random_forest.score(X_test,y_test))\n",
    "\n",
    "y_pred = random_forest.predict(X_test)\n",
    "print(y_pred)\n",
    "cm = confusion_matrix(y_test, y_pred)\n",
    "print(f'CM:',cm)\n",
    "print(f'Accuracy:',accuracy_score(y_test, y_pred)* 100 ,'%')\n",
    "print(classification_report(y_test, random_forest.predict(X_test)))"
   ]
  },
  {
   "cell_type": "markdown",
   "id": "a0e0929e",
   "metadata": {},
   "source": [
    "#### Random Forest tanpa imblanace memakai entropy"
   ]
  },
  {
   "cell_type": "code",
   "execution_count": 55,
   "id": "bd7076d7",
   "metadata": {},
   "outputs": [
    {
     "name": "stdout",
     "output_type": "stream",
     "text": [
      "Train accuracy: 0.9430379746835443\n",
      "Test accuracy: 0.6470588235294118\n",
      "[3. 1. 2. 2. 2. 1. 3. 3. 1. 1. 3. 3. 1. 1. 1. 1. 1. 1. 1. 1. 1. 2. 1. 3.\n",
      " 3. 1. 1. 1. 2. 1. 1. 1. 1. 2. 1. 1. 1. 2. 3. 1. 1. 2. 1. 2. 1. 3. 2. 3.\n",
      " 1. 1. 1. 1. 1. 1. 1. 1. 1. 1. 1. 1. 1. 3. 1. 2. 1. 1. 1. 1. 1. 2. 3. 3.\n",
      " 1. 2. 3. 1. 1. 1. 1. 3. 3. 2. 2. 1. 1. 1. 1. 1. 1. 1. 2. 1. 3. 3. 2. 2.\n",
      " 2. 1. 3. 1. 2. 3. 2. 1. 3. 1. 2. 1. 3. 2. 2. 1. 3. 3. 1. 1. 3. 3. 1. 2.\n",
      " 3. 2. 1. 1. 1. 1. 3. 1. 3. 1. 1. 1. 3. 1. 1. 3.]\n",
      "CM: [[53 10  2]\n",
      " [23 11  5]\n",
      " [ 3  5 24]]\n",
      "Accuracy: 64.70588235294117 %\n",
      "              precision    recall  f1-score   support\n",
      "\n",
      "         1.0       0.67      0.82      0.74        65\n",
      "         2.0       0.42      0.28      0.34        39\n",
      "         3.0       0.77      0.75      0.76        32\n",
      "\n",
      "    accuracy                           0.65       136\n",
      "   macro avg       0.62      0.62      0.61       136\n",
      "weighted avg       0.62      0.65      0.63       136\n",
      "\n"
     ]
    }
   ],
   "source": [
    "#Applying RandomForest\n",
    "from sklearn.ensemble import RandomForestClassifier\n",
    "\n",
    "#Create Random Forest object\n",
    "random_forest = RandomForestClassifier(criterion='entropy')\n",
    "\n",
    "#Train model\n",
    "random_forest.fit(X_train, y_train)\n",
    "\n",
    "print(\"Train accuracy:\",random_forest.score(X_train,y_train))\n",
    "print(\"Test accuracy:\",random_forest.score(X_test,y_test))\n",
    "\n",
    "y_pred = random_forest.predict(X_test)\n",
    "print(y_pred)\n",
    "cm = confusion_matrix(y_test, y_pred)\n",
    "print(f'CM:',cm)\n",
    "print(f'Accuracy:',accuracy_score(y_test, y_pred)* 100 ,'%')\n",
    "print(classification_report(y_test, random_forest.predict(X_test)))"
   ]
  },
  {
   "cell_type": "markdown",
   "id": "0555d784",
   "metadata": {},
   "source": [
    "#### Random Forest dengan imblanace memakai gini "
   ]
  },
  {
   "cell_type": "code",
   "execution_count": 56,
   "id": "10aed7b9",
   "metadata": {},
   "outputs": [
    {
     "name": "stdout",
     "output_type": "stream",
     "text": [
      "[[36  8  1]\n",
      " [ 9 38  5]\n",
      " [ 1  4 39]]\n",
      "              precision    recall  f1-score   support\n",
      "\n",
      "         1.0       0.78      0.80      0.79        45\n",
      "         2.0       0.76      0.73      0.75        52\n",
      "         3.0       0.87      0.89      0.88        44\n",
      "\n",
      "    accuracy                           0.80       141\n",
      "   macro avg       0.80      0.81      0.80       141\n",
      "weighted avg       0.80      0.80      0.80       141\n",
      "\n"
     ]
    }
   ],
   "source": [
    "# Import library yang dibutuhkan\n",
    "from imblearn.over_sampling import SMOTE\n",
    "from imblearn.over_sampling import RandomOverSampler\n",
    "from imblearn.combine import SMOTEENN\n",
    "from sklearn.ensemble import RandomForestClassifier\n",
    "from sklearn.metrics import confusion_matrix, classification_report\n",
    "\n",
    "# Oversampling dengan SMOTE\n",
    "sm = RandomOverSampler(random_state=0)\n",
    "\n",
    "X_res, y_res = sm.fit_resample(X, y)\n",
    "\n",
    "# Split dataset menjadi data latih dan data uji\n",
    "X_train_res, X_test_res, y_train_res, y_test_res = train_test_split(X_res, y_res, test_size=0.2, random_state=42)\n",
    "\n",
    "# Bangun model Random Forest\n",
    "model = RandomForestClassifier(criterion='gini')\n",
    "model.fit(X_train_res, y_train_res)\n",
    "\n",
    "# Prediksi hasil dengan menggunakan model\n",
    "y_pred = model.predict(X_test_res)\n",
    "\n",
    "# Hitung metrik-metrik evaluasi model\n",
    "print(confusion_matrix(y_test_res, y_pred))\n",
    "print(classification_report(y_test_res, y_pred))"
   ]
  },
  {
   "cell_type": "markdown",
   "id": "6c36ac2c",
   "metadata": {},
   "source": [
    "#### Random Forest dengan imblanace memakai entropy "
   ]
  },
  {
   "cell_type": "code",
   "execution_count": 57,
   "id": "c6e786e4",
   "metadata": {},
   "outputs": [
    {
     "name": "stdout",
     "output_type": "stream",
     "text": [
      "[[35  8  2]\n",
      " [11 38  3]\n",
      " [ 1  3 40]]\n",
      "              precision    recall  f1-score   support\n",
      "\n",
      "         1.0       0.74      0.78      0.76        45\n",
      "         2.0       0.78      0.73      0.75        52\n",
      "         3.0       0.89      0.91      0.90        44\n",
      "\n",
      "    accuracy                           0.80       141\n",
      "   macro avg       0.80      0.81      0.80       141\n",
      "weighted avg       0.80      0.80      0.80       141\n",
      "\n"
     ]
    }
   ],
   "source": [
    "# Import library yang dibutuhkan\n",
    "from imblearn.over_sampling import SMOTE\n",
    "from imblearn.over_sampling import RandomOverSampler\n",
    "from imblearn.combine import SMOTEENN\n",
    "from sklearn.ensemble import RandomForestClassifier\n",
    "from sklearn.metrics import confusion_matrix, classification_report\n",
    "\n",
    "# Oversampling dengan SMOTE\n",
    "sm = RandomOverSampler(random_state=0)\n",
    "\n",
    "X_res, y_res = sm.fit_resample(X, y)\n",
    "\n",
    "# Split dataset menjadi data latih dan data uji\n",
    "X_train_res, X_test_res, y_train_res, y_test_res = train_test_split(X_res, y_res, test_size=0.2, random_state=42)\n",
    "\n",
    "# Bangun model Random Forest\n",
    "model = RandomForestClassifier(criterion='entropy')\n",
    "model.fit(X_train_res, y_train_res)\n",
    "\n",
    "# Prediksi hasil dengan menggunakan model\n",
    "y_pred = model.predict(X_test_res)\n",
    "\n",
    "# Hitung metrik-metrik evaluasi model\n",
    "print(confusion_matrix(y_test_res, y_pred))\n",
    "print(classification_report(y_test_res, y_pred))"
   ]
  },
  {
   "cell_type": "markdown",
   "id": "2f6555b8",
   "metadata": {},
   "source": [
    "####  Decision Tree dengan imblanace memakai entropy"
   ]
  },
  {
   "cell_type": "code",
   "execution_count": 58,
   "id": "7a05e2f6",
   "metadata": {},
   "outputs": [
    {
     "name": "stdout",
     "output_type": "stream",
     "text": [
      "[[ 0  0 45]\n",
      " [ 0  0 52]\n",
      " [ 0  0 44]]\n",
      "              precision    recall  f1-score   support\n",
      "\n",
      "         1.0       0.00      0.00      0.00        45\n",
      "         2.0       0.00      0.00      0.00        52\n",
      "         3.0       0.31      1.00      0.48        44\n",
      "\n",
      "    accuracy                           0.31       141\n",
      "   macro avg       0.10      0.33      0.16       141\n",
      "weighted avg       0.10      0.31      0.15       141\n",
      "\n"
     ]
    },
    {
     "name": "stderr",
     "output_type": "stream",
     "text": [
      "C:\\Users\\ASUS\\anaconda3\\lib\\site-packages\\sklearn\\base.py:443: UserWarning: X has feature names, but DecisionTreeClassifier was fitted without feature names\n",
      "  warnings.warn(\n",
      "C:\\Users\\ASUS\\anaconda3\\lib\\site-packages\\sklearn\\metrics\\_classification.py:1318: UndefinedMetricWarning: Precision and F-score are ill-defined and being set to 0.0 in labels with no predicted samples. Use `zero_division` parameter to control this behavior.\n",
      "  _warn_prf(average, modifier, msg_start, len(result))\n",
      "C:\\Users\\ASUS\\anaconda3\\lib\\site-packages\\sklearn\\metrics\\_classification.py:1318: UndefinedMetricWarning: Precision and F-score are ill-defined and being set to 0.0 in labels with no predicted samples. Use `zero_division` parameter to control this behavior.\n",
      "  _warn_prf(average, modifier, msg_start, len(result))\n",
      "C:\\Users\\ASUS\\anaconda3\\lib\\site-packages\\sklearn\\metrics\\_classification.py:1318: UndefinedMetricWarning: Precision and F-score are ill-defined and being set to 0.0 in labels with no predicted samples. Use `zero_division` parameter to control this behavior.\n",
      "  _warn_prf(average, modifier, msg_start, len(result))\n"
     ]
    }
   ],
   "source": [
    "# Import library yang dibutuhkan\n",
    "from imblearn.over_sampling import SMOTE\n",
    "from imblearn.over_sampling import RandomOverSampler\n",
    "from imblearn.combine import SMOTEENN\n",
    "from sklearn import tree\n",
    "from sklearn.metrics import confusion_matrix, classification_report\n",
    "\n",
    "# Oversampling dengan SMOTE\n",
    "sm = RandomOverSampler(random_state=0)\n",
    "\n",
    "X_res, y_res = sm.fit_resample(X, y)\n",
    "\n",
    "# Split dataset menjadi data latih dan data uji\n",
    "X_train_res, X_test_res, y_train_res, y_test_res = train_test_split(X_res, y_res, test_size=0.2, random_state=42)\n",
    "\n",
    "# Bangun model Decision Tree\n",
    "decision_tree = tree.DecisionTreeClassifier(criterion='gini')\n",
    "decision_tree.fit(X_train, y_train)\n",
    "\n",
    "# Prediksi hasil dengan menggunakan model\n",
    "y_pred = decision_tree.predict(X_test_res)\n",
    "\n",
    "# Hitung metrik-metrik evaluasi model\n",
    "print(confusion_matrix(y_test_res, y_pred))\n",
    "print(classification_report(y_test_res, y_pred))"
   ]
  },
  {
   "cell_type": "markdown",
   "id": "b10d7920",
   "metadata": {},
   "source": [
    "#### Decision Tree dengan imblanace memakai entropy "
   ]
  },
  {
   "cell_type": "code",
   "execution_count": 59,
   "id": "97d5278e",
   "metadata": {},
   "outputs": [
    {
     "name": "stdout",
     "output_type": "stream",
     "text": [
      "[[ 0  0 45]\n",
      " [ 0  0 52]\n",
      " [ 0  0 44]]\n",
      "              precision    recall  f1-score   support\n",
      "\n",
      "         1.0       0.00      0.00      0.00        45\n",
      "         2.0       0.00      0.00      0.00        52\n",
      "         3.0       0.31      1.00      0.48        44\n",
      "\n",
      "    accuracy                           0.31       141\n",
      "   macro avg       0.10      0.33      0.16       141\n",
      "weighted avg       0.10      0.31      0.15       141\n",
      "\n"
     ]
    },
    {
     "name": "stderr",
     "output_type": "stream",
     "text": [
      "C:\\Users\\ASUS\\anaconda3\\lib\\site-packages\\sklearn\\base.py:443: UserWarning: X has feature names, but DecisionTreeClassifier was fitted without feature names\n",
      "  warnings.warn(\n",
      "C:\\Users\\ASUS\\anaconda3\\lib\\site-packages\\sklearn\\metrics\\_classification.py:1318: UndefinedMetricWarning: Precision and F-score are ill-defined and being set to 0.0 in labels with no predicted samples. Use `zero_division` parameter to control this behavior.\n",
      "  _warn_prf(average, modifier, msg_start, len(result))\n",
      "C:\\Users\\ASUS\\anaconda3\\lib\\site-packages\\sklearn\\metrics\\_classification.py:1318: UndefinedMetricWarning: Precision and F-score are ill-defined and being set to 0.0 in labels with no predicted samples. Use `zero_division` parameter to control this behavior.\n",
      "  _warn_prf(average, modifier, msg_start, len(result))\n",
      "C:\\Users\\ASUS\\anaconda3\\lib\\site-packages\\sklearn\\metrics\\_classification.py:1318: UndefinedMetricWarning: Precision and F-score are ill-defined and being set to 0.0 in labels with no predicted samples. Use `zero_division` parameter to control this behavior.\n",
      "  _warn_prf(average, modifier, msg_start, len(result))\n"
     ]
    }
   ],
   "source": [
    "# Import library yang dibutuhkan\n",
    "from imblearn.over_sampling import SMOTE\n",
    "from imblearn.over_sampling import RandomOverSampler\n",
    "from imblearn.combine import SMOTEENN\n",
    "from sklearn import tree\n",
    "from sklearn.metrics import confusion_matrix, classification_report\n",
    "\n",
    "# Oversampling dengan SMOTE\n",
    "sm = RandomOverSampler(random_state=0)\n",
    "\n",
    "X_res, y_res = sm.fit_resample(X, y)\n",
    "\n",
    "# Split dataset menjadi data latih dan data uji\n",
    "X_train_res, X_test_res, y_train_res, y_test_res = train_test_split(X_res, y_res, test_size=0.2, random_state=42)\n",
    "\n",
    "# Bangun model Decision Tree\n",
    "decision_tree = tree.DecisionTreeClassifier(criterion='entropy')\n",
    "decision_tree.fit(X_train, y_train)\n",
    "\n",
    "# Prediksi hasil dengan menggunakan model\n",
    "y_pred = decision_tree.predict(X_test_res)\n",
    "\n",
    "# Hitung metrik-metrik evaluasi model\n",
    "print(confusion_matrix(y_test_res, y_pred))\n",
    "print(classification_report(y_test_res, y_pred))"
   ]
  },
  {
   "cell_type": "markdown",
   "id": "8ce46071",
   "metadata": {},
   "source": [
    "### List model yang akan di training = test size 20%\n",
    "- Decision tree tanpa imblanace memakai gini\n",
    "- Decision tree tanpa imblanace memakai entrophy\n",
    "- Decision tree dengan imbalance memakai gini \n",
    "- Decision tree dengan imbalance memakai entrophy\n",
    "\n",
    "- Random Forest tanpa imblanace memakai gini\n",
    "- Random Forest tanpa imblanace memakai entrophy\n",
    "- Random Forest dengan imbalance memakai gini\n",
    "- Random Forest dengan imbalance memakai entrophy"
   ]
  },
  {
   "cell_type": "code",
   "execution_count": 60,
   "id": "c6240d53",
   "metadata": {},
   "outputs": [
    {
     "data": {
      "text/plain": [
       "1.0    234\n",
       "3.0    112\n",
       "2.0    106\n",
       "Name: RiskLevel, dtype: int64"
      ]
     },
     "execution_count": 60,
     "metadata": {},
     "output_type": "execute_result"
    }
   ],
   "source": [
    "y.value_counts()"
   ]
  },
  {
   "cell_type": "code",
   "execution_count": 61,
   "id": "35829f2e",
   "metadata": {},
   "outputs": [
    {
     "data": {
      "text/plain": [
       "3.0    234\n",
       "1.0    234\n",
       "2.0    234\n",
       "Name: RiskLevel, dtype: int64"
      ]
     },
     "execution_count": 61,
     "metadata": {},
     "output_type": "execute_result"
    }
   ],
   "source": [
    "y_res.value_counts()"
   ]
  },
  {
   "cell_type": "markdown",
   "id": "9a9114f0",
   "metadata": {},
   "source": [
    "### Save Model"
   ]
  },
  {
   "cell_type": "code",
   "execution_count": 3,
   "id": "43ecffe3",
   "metadata": {},
   "outputs": [
    {
     "ename": "NameError",
     "evalue": "name 'model' is not defined",
     "output_type": "error",
     "traceback": [
      "\u001b[1;31m---------------------------------------------------------------------------\u001b[0m",
      "\u001b[1;31mNameError\u001b[0m                                 Traceback (most recent call last)",
      "Input \u001b[1;32mIn [3]\u001b[0m, in \u001b[0;36m<cell line: 7>\u001b[1;34m()\u001b[0m\n\u001b[0;32m      5\u001b[0m \u001b[38;5;66;03m# save the model to disk\u001b[39;00m\n\u001b[0;32m      6\u001b[0m filename \u001b[38;5;241m=\u001b[39m \u001b[38;5;124m'\u001b[39m\u001b[38;5;124mD:\u001b[39m\u001b[38;5;124m\\\u001b[39m\u001b[38;5;124mKuliah POLTEKPOS\u001b[39m\u001b[38;5;124m\\\u001b[39m\u001b[38;5;124mSemester 5\u001b[39m\u001b[38;5;124m\\\u001b[39m\u001b[38;5;124mProyek TI III\u001b[39m\u001b[38;5;124m\\\u001b[39m\u001b[38;5;124mML/model_rf1.pkl\u001b[39m\u001b[38;5;124m'\u001b[39m\n\u001b[1;32m----> 7\u001b[0m pickle\u001b[38;5;241m.\u001b[39mdump(\u001b[43mmodel\u001b[49m, \u001b[38;5;28mopen\u001b[39m(filename, \u001b[38;5;124m'\u001b[39m\u001b[38;5;124mwb\u001b[39m\u001b[38;5;124m'\u001b[39m))\n",
      "\u001b[1;31mNameError\u001b[0m: name 'model' is not defined"
     ]
    }
   ],
   "source": [
    "# save model to pickle\n",
    "\n",
    "import pickle\n",
    "\n",
    "# save the model to disk\n",
    "filename = 'D:\\Kuliah POLTEKPOS\\Semester 5\\Proyek TI III\\ML/model_rf1.pkl'\n",
    "pickle.dump(model, open(filename, 'wb'))\n",
    " "
   ]
  },
  {
   "cell_type": "code",
   "execution_count": 5,
   "id": "713c41c9",
   "metadata": {},
   "outputs": [],
   "source": [
    "# load model yang sudah disave\n",
    "\n",
    "import pickle\n",
    " \n",
    "# # load the model from disk\n",
    "filename = 'D:\\Kuliah POLTEKPOS\\Semester 5\\Proyek TI III/ML/model_rf1.pkl'\n",
    "loaded_model = pickle.load(open(filename, 'rb'))"
   ]
  },
  {
   "cell_type": "code",
   "execution_count": 6,
   "id": "96ec6cf4",
   "metadata": {},
   "outputs": [
    {
     "data": {
      "text/plain": [
       "RandomForestClassifier()"
      ]
     },
     "execution_count": 6,
     "metadata": {},
     "output_type": "execute_result"
    }
   ],
   "source": [
    "loaded_model"
   ]
  },
  {
   "cell_type": "code",
   "execution_count": 7,
   "id": "83d20895",
   "metadata": {},
   "outputs": [
    {
     "name": "stdout",
     "output_type": "stream",
     "text": [
      "usia: 25\n",
      "SystolicBP: 130\n",
      "DiastolicBP: 80\n",
      "BS: 85\n",
      "BodyTemp: 36\n",
      "HeartRate: 80\n"
     ]
    }
   ],
   "source": [
    "usia = int(input('usia: '))\n",
    "SystolicBP = int(input('SystolicBP: '))\n",
    "DiastolicBP = int(input('DiastolicBP: '))\n",
    "BS = int(input('BS: '))\n",
    "BodyTemp = int(input('BodyTemp: '))\n",
    "HeartRate = int(input('HeartRate: '))"
   ]
  },
  {
   "cell_type": "code",
   "execution_count": 8,
   "id": "c3251706",
   "metadata": {},
   "outputs": [
    {
     "name": "stdout",
     "output_type": "stream",
     "text": [
      "[3.]\n",
      "High\n"
     ]
    },
    {
     "name": "stderr",
     "output_type": "stream",
     "text": [
      "C:\\Users\\ASUS\\anaconda3\\lib\\site-packages\\sklearn\\base.py:450: UserWarning: X does not have valid feature names, but RandomForestClassifier was fitted with feature names\n",
      "  warnings.warn(\n"
     ]
    }
   ],
   "source": [
    "hasil = loaded_model.predict([[usia, SystolicBP, DiastolicBP, BS, BodyTemp, HeartRate]])\n",
    "\n",
    "print(hasil)\n",
    "\n",
    "if hasil == 3:\n",
    "  print('High')\n",
    "elif hasil == 2:\n",
    "  print('Mid')\n",
    "elif hasil == 1:\n",
    "  print('Low')"
   ]
  },
  {
   "cell_type": "code",
   "execution_count": null,
   "id": "c136c5e3",
   "metadata": {},
   "outputs": [],
   "source": []
  }
 ],
 "metadata": {
  "kernelspec": {
   "display_name": "Python 3 (ipykernel)",
   "language": "python",
   "name": "python3"
  },
  "language_info": {
   "codemirror_mode": {
    "name": "ipython",
    "version": 3
   },
   "file_extension": ".py",
   "mimetype": "text/x-python",
   "name": "python",
   "nbconvert_exporter": "python",
   "pygments_lexer": "ipython3",
   "version": "3.9.12"
  }
 },
 "nbformat": 4,
 "nbformat_minor": 5
}
